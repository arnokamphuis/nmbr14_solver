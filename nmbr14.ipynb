{
 "cells": [
  {
   "cell_type": "code",
   "execution_count": 20,
   "metadata": {},
   "outputs": [],
   "source": [
    "from collections import deque\n",
    "from copy import deepcopy\n",
    "from itertools import combinations\n",
    "from collections import defaultdict"
   ]
  },
  {
   "cell_type": "markdown",
   "metadata": {},
   "source": [
    "Let's define a list for the solutions"
   ]
  },
  {
   "cell_type": "code",
   "execution_count": 21,
   "metadata": {},
   "outputs": [],
   "source": [
    "prevs = {}\n",
    "solutions = []\n",
    "DP = {}"
   ]
  },
  {
   "cell_type": "markdown",
   "metadata": {},
   "source": [
    "Let's define a state."
   ]
  },
  {
   "cell_type": "code",
   "execution_count": 22,
   "metadata": {},
   "outputs": [],
   "source": [
    "class State:\n",
    "    target = 0\n",
    "    numbers = [0,0,0,0,0,0]\n",
    "    operations = []\n",
    "\n",
    "    def save_solution(self):\n",
    "        global solutions\n",
    "        if self.operations not in solutions:\n",
    "            solutions = solutions + [self.operations]\n",
    "\n",
    "    def __init__(self, vals, target, operations):\n",
    "        self.numbers = vals\n",
    "        self.numbers.sort()\n",
    "        self.target = target\n",
    "        self.operations = operations\n",
    "\n",
    "    def solve(self):\n",
    "        global DP\n",
    "        if str(self.operations) in DP:\n",
    "            return\n",
    "        ls, ns = self.next_states()\n",
    "        if len(ls) > 0:\n",
    "            for s in ls:\n",
    "                s.save_solution()\n",
    "            DP[str(self.operations)] = ls\n",
    "        else:\n",
    "            for s in ns:\n",
    "                s.solve()\n",
    "\n",
    "    def next_states(self):\n",
    "        result = set({})\n",
    "        local_solutions = set({})\n",
    "        options = combinations(self.numbers, 2)\n",
    "        for opt in options:\n",
    "            nums = deepcopy(self.numbers)\n",
    "            nums.remove(opt[0])\n",
    "            nums.remove(opt[1])\n",
    "\n",
    "            opt0 = max(opt[0], opt[1])\n",
    "            opt1 = min(opt[0], opt[1])\n",
    "\n",
    "            s1 = State(nums + [int(opt0+opt1)], self.target, self.operations + [str(opt0)+'+'+str(opt1)])\n",
    "            if opt0 != opt1:\n",
    "                s2 = State(nums + [int(opt0-opt1)], self.target, self.operations + [str(opt0)+'-'+str(opt1)])\n",
    "            else:\n",
    "                s2 = None\n",
    "            s3 = State(nums + [int(opt0*opt1)], self.target, self.operations + [str(opt0)+'*'+str(opt1)])\n",
    "            if opt1 != 0 and opt0%opt1 == 0:\n",
    "                s4 = State(nums + [int(opt0/opt1)], self.target, self.operations + [str(opt0)+'/'+str(opt1)])\n",
    "            else:\n",
    "                s4 = None\n",
    "            \n",
    "            if self.target in s1.numbers:\n",
    "                local_solutions = local_solutions.union(set({s1}))\n",
    "            elif len(s1.numbers)>1:\n",
    "                result = result.union(set({s1}))\n",
    "\n",
    "            if s2:\n",
    "                if self.target in s2.numbers:\n",
    "                    local_solutions = local_solutions.union(set({s2}))\n",
    "                elif len(s2.numbers)>1:\n",
    "                    result = result.union(set({s2}))\n",
    "\n",
    "            if self.target in s3.numbers:\n",
    "                local_solutions = local_solutions.union(set({s3}))\n",
    "            elif len(s3.numbers)>1:\n",
    "                result = result.union(set({s3}))\n",
    "\n",
    "            if s4:\n",
    "                if self.target in s4.numbers:\n",
    "                    local_solutions = local_solutions.union(set({s4}))\n",
    "                elif len(s4.numbers)>1:\n",
    "                    result = result.union(set({s4}))\n",
    "\n",
    "        for r in result:\n",
    "            prevs[r] = self\n",
    "        return local_solutions, result"
   ]
  },
  {
   "cell_type": "code",
   "execution_count": 23,
   "metadata": {},
   "outputs": [],
   "source": [
    "start = State([6,6,2,8,50,75], 901, [])\n",
    "\n",
    "start.solve()\n"
   ]
  },
  {
   "cell_type": "markdown",
   "metadata": {},
   "source": [
    "Print and count the solutions"
   ]
  },
  {
   "cell_type": "code",
   "execution_count": 24,
   "metadata": {},
   "outputs": [
    {
     "name": "stdout",
     "output_type": "stream",
     "text": [
      "5 901 ['6*2', '12*6', '72+50', '122*8', '976-75']\n",
      "5 901 ['6*6', '36*2', '72+50', '122*8', '976-75']\n"
     ]
    }
   ],
   "source": [
    "counts = defaultdict(int)\n",
    "for sol in solutions:\n",
    "    counts[len(sol)] = counts[len(sol)] + 1\n",
    "    print(len(sol), start.target, sol)"
   ]
  },
  {
   "cell_type": "markdown",
   "metadata": {},
   "source": [
    "Print the number of solutions per solution length."
   ]
  },
  {
   "cell_type": "code",
   "execution_count": 25,
   "metadata": {},
   "outputs": [
    {
     "name": "stdout",
     "output_type": "stream",
     "text": [
      "5 2\n"
     ]
    }
   ],
   "source": [
    "for k,v in counts.items():\n",
    "    print(k,v)"
   ]
  }
 ],
 "metadata": {
  "interpreter": {
   "hash": "98fb52d79eaafd5623d4d36a2158b0828666e35d5cf6898ad5c071afb6c45700"
  },
  "kernelspec": {
   "display_name": "Python 3.8.13 ('number14')",
   "language": "python",
   "name": "python3"
  },
  "language_info": {
   "codemirror_mode": {
    "name": "ipython",
    "version": 3
   },
   "file_extension": ".py",
   "mimetype": "text/x-python",
   "name": "python",
   "nbconvert_exporter": "python",
   "pygments_lexer": "ipython3",
   "version": "3.8.13"
  },
  "orig_nbformat": 4
 },
 "nbformat": 4,
 "nbformat_minor": 2
}
